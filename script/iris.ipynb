{
 "cells": [
  {
   "cell_type": "markdown",
   "metadata": {},
   "source": [
    "# 在iris数据集上sklearn分类器比较\n",
    "&emsp;&emsp;默认参数下sklearn分类器的准确度表：\n",
    "* 最耗时的是LogisticRegressionCV(逻辑回归)、AdaBoostClassifier(弱分类投票)、GradientBoostingClassifier(迭代决策树)\n",
    "* 准确率最低的是PassiveAggressiveClassifier(被动进攻)、SGDClassifier(随机梯度下降)\n",
    "* 准确率最高的是SVC(支持向量机)、KNeighborsClassifier(K近邻)、DecisionTreeClassifier(决策树)、GaussianProcessClassifier(高斯过程)"
   ]
  },
  {
   "cell_type": "code",
   "execution_count": 6,
   "metadata": {},
   "outputs": [
    {
     "name": "stdout",
     "output_type": "stream",
     "text": [
      "Accuraty:<class 'sklearn.linear_model.logistic.LogisticRegression'> score=1.00 time=0\n",
      "Accuraty:<class 'sklearn.linear_model.logistic.LogisticRegressionCV'> score=1.00 time=17\n",
      "Accuraty:<class 'sklearn.svm.classes.LinearSVC'> score=1.00 time=0\n",
      "Accuraty:<class 'sklearn.svm.classes.NuSVC'> score=1.00 time=0\n",
      "Accuraty:<class 'sklearn.svm.classes.SVC'> score=1.00 time=0\n",
      "Accuraty:<class 'sklearn.linear_model.passive_aggressive.PassiveAggressiveClassifier'> score=0.47 time=0\n",
      "Accuraty:<class 'sklearn.linear_model.ridge.RidgeClassifier'> score=0.93 time=0\n",
      "Accuraty:<class 'sklearn.linear_model.ridge.RidgeClassifierCV'> score=0.93 time=0\n",
      "Accuraty:<class 'sklearn.linear_model.stochastic_gradient.SGDClassifier'> score=0.67 time=0\n",
      "Accuraty:<class 'sklearn.neighbors.classification.KNeighborsClassifier'> score=1.00 time=0\n",
      "Accuraty:<class 'sklearn.neighbors.nearest_centroid.NearestCentroid'> score=0.93 time=0\n",
      "Accuraty:<class 'sklearn.tree.tree.DecisionTreeClassifier'> score=0.93 time=0\n",
      "Accuraty:<class 'sklearn.tree.tree.ExtraTreeClassifier'> score=0.87 time=0\n",
      "Accuraty:<class 'sklearn.ensemble.weight_boosting.AdaBoostClassifier'> score=1.00 time=14\n",
      "Accuraty:<class 'sklearn.ensemble.bagging.BaggingClassifier'> score=0.93 time=2\n",
      "Accuraty:<class 'sklearn.tree.tree.ExtraTreeClassifier'> score=0.87 time=0\n",
      "Accuraty:<class 'sklearn.ensemble.gradient_boosting.GradientBoostingClassifier'> score=1.00 time=16\n",
      "Accuraty:<class 'sklearn.ensemble.forest.RandomForestClassifier'> score=0.93 time=3\n",
      "Accuraty:<class 'sklearn.gaussian_process.gpc.GaussianProcessClassifier'> score=1.00 time=6\n",
      "Accuraty:<class 'sklearn.naive_bayes.BernoulliNB'> score=0.80 time=0\n",
      "Accuraty:<class 'sklearn.naive_bayes.GaussianNB'> score=1.00 time=0\n"
     ]
    }
   ],
   "source": [
    "from sklearn.pipeline import Pipeline\n",
    "from sklearn.linear_model import *\n",
    "from sklearn.tree import *\n",
    "from sklearn.neighbors import *\n",
    "from sklearn.ensemble import *\n",
    "from sklearn.gaussian_process import *\n",
    "from sklearn.svm import *\n",
    "from sklearn.naive_bayes import *\n",
    "from sklearn.preprocessing import LabelEncoder\n",
    "from sklearn.cross_validation import train_test_split\n",
    "from sklearn.metrics import accuracy_score\n",
    "from sklearn.preprocessing import StandardScaler\n",
    "\n",
    "import matplotlib.pyplot as plt\n",
    "import pandas as pd\n",
    "import time\n",
    "\n",
    "class dataset(object):\n",
    "    def __init__(self, filename, columns, classcol, datacol):\n",
    "        self.filename = filename\n",
    "        self.columns = columns\t\t# 所有属性名\n",
    "        self.classcol = classcol\t# 类型名\n",
    "        self.datacol = datacol\t\t# 有效属性名\t\n",
    "\n",
    "clfs = [\n",
    "    LogisticRegression(),\n",
    "    LogisticRegressionCV(),\n",
    "    LinearSVC(),\n",
    "    NuSVC(),\n",
    "    SVC(),\n",
    "    PassiveAggressiveClassifier(),\n",
    "    RidgeClassifier(),\n",
    "    RidgeClassifierCV(),\n",
    "    SGDClassifier(),\n",
    "    KNeighborsClassifier(),\n",
    "    NearestCentroid(),\n",
    "    DecisionTreeClassifier(),\n",
    "    ExtraTreeClassifier(),\n",
    "    AdaBoostClassifier(),\n",
    "    BaggingClassifier(),\n",
    "    ExtraTreeClassifier(),\n",
    "    GradientBoostingClassifier(),\n",
    "    RandomForestClassifier(),\n",
    "    GaussianProcessClassifier(),\n",
    "    BernoulliNB(),\n",
    "    GaussianNB(),\n",
    "]\n",
    "pipes = [Pipeline([['sc', StandardScaler()], ['clf', clf]]) for clf in clfs] # 用于统一化初值处理、分类\n",
    "\n",
    "def learn_from_data(dataset):\n",
    "    filename = dataset.filename\n",
    "    columns = dataset.columns\n",
    "    classcol = dataset.classcol\n",
    "    datacol = dataset.datacol\n",
    "    iris = pd.read_csv(filename, header=None)\n",
    "    iris.columns = columns\n",
    "    y = iris[classcol].values\n",
    "    X = iris[datacol].values\n",
    "    X_train, X_test, y_train, y_test = train_test_split(X, y, test_size=0.1) # 测试集占10%\n",
    "\n",
    "    for i in range(0, len(clfs)):\n",
    "        minscore = 1.0 # 记录最小准确度用于后续进一步优化\n",
    "        start = time.time()\n",
    "        for j in range(0, testnum):\n",
    "            pipes[i].fit(X_train, y_train)\n",
    "            y_pred = pipes[i].predict(X_test)\n",
    "            accuracy = accuracy_score(y_test, y_pred)\n",
    "            if accuracy < minscore:\n",
    "                minscore = accuracy\n",
    "        end = time.time()\n",
    "        print('Accuraty:%s score=%.2f time=%d' % (type(clfs[i]), minscore, end - start))\n",
    "\n",
    "testnum = 100\n",
    "irisdataset = dataset(\n",
    "    '../dataset/iris_dataset/iris.data',\n",
    "    ['Sepal length', 'Sepal width', 'Petal length', 'Petal width', 'Class label'],\n",
    "    'Class label',\n",
    "    ['Sepal length', 'Sepal width', 'Petal length', 'Petal width']\n",
    ")\n",
    "\n",
    "if __name__ == '__main__':\n",
    "    learn_from_data(irisdataset)"
   ]
  },
  {
   "cell_type": "markdown",
   "metadata": {},
   "source": []
  },
  {
   "cell_type": "code",
   "execution_count": null,
   "metadata": {
    "collapsed": true
   },
   "outputs": [],
   "source": []
  }
 ],
 "metadata": {
  "kernelspec": {
   "display_name": "Python 2",
   "language": "python",
   "name": "python2"
  },
  "language_info": {
   "codemirror_mode": {
    "name": "ipython",
    "version": 2
   },
   "file_extension": ".py",
   "mimetype": "text/x-python",
   "name": "python",
   "nbconvert_exporter": "python",
   "pygments_lexer": "ipython2",
   "version": "2.7.13"
  }
 },
 "nbformat": 4,
 "nbformat_minor": 2
}
